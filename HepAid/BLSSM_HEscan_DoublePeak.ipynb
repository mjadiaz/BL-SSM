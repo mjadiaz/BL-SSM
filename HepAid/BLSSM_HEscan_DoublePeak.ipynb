{
 "cells": [
  {
   "cell_type": "code",
   "execution_count": 1,
   "id": "9b5dc787",
   "metadata": {},
   "outputs": [],
   "source": [
    "import numpy as np\n",
    "\n",
    "import HepRead\n",
    "import HepTools\n",
    "import os\n",
    "\n",
    "from HepTools import Scanner as sc\n",
    "\n",
    "model = 'BLSSM'\n",
    "work_dir = '/scratch/mjad1g20/HEP/WorkArea/BLSSM_DoublePeak'\n",
    "spheno_dir = '/scratch/mjad1g20/HEP/SPHENO/SPheno-3.3.8'\n",
    "reference_lhs = '/scratch/mjad1g20/HEP/SPHENO/SPheno-3.3.8/BLSSM/Input_Files/LesHouches.in.BLSSM'\n",
    "madgraph_dir = '/scratch/mjad1g20/HEP/MG5_aMC_v3_1_1'"
   ]
  },
  {
   "cell_type": "code",
   "execution_count": 2,
   "id": "683e000c",
   "metadata": {},
   "outputs": [
    {
     "name": "stdout",
     "output_type": "stream",
     "text": [
      "BLSSM model activated.\n",
      "Reading LesHouches from : /scratch/mjad1g20/HEP/SPHENO/SPheno-3.3.8/BLSSM/Input_Files/LesHouches.in.BLSSM\n"
     ]
    }
   ],
   "source": [
    "SPhenoBLSSM = HepTools.Spheno(spheno_dir, work_dir ,model)\n",
    "lhs  = HepRead.LesHouches(reference_lhs, work_dir, model)"
   ]
  },
  {
   "cell_type": "markdown",
   "id": "33b1eaf8",
   "metadata": {},
   "source": [
    "The minimisation conditions of this potential at tree level lead to the following relations:"
   ]
  },
  {
   "cell_type": "code",
   "execution_count": 3,
   "id": "8bc13647",
   "metadata": {},
   "outputs": [],
   "source": [
    "def parameters(TanBetaP = 1.15,\n",
    "               TanBeta  = 5,\n",
    "               MZp = 1700, \n",
    "               gBL = 0.55, \n",
    "               g1BL = -0.12, \n",
    "               mHu2 = 1.1E+6,\n",
    "               mHd2 = -1E+7,\n",
    "               v = 2.41921545E+02**2,\n",
    "               g1 = 3.66169105E-01,\n",
    "               g2 = 6.33667249E-01,\n",
    "               mN12 = -2.8E+4,\n",
    "               mN22 = 7.8E+5):\n",
    "    \n",
    "    BetaP = np.arctan(TanBetaP)\n",
    "    Beta = np.arctan(TanBeta)\n",
    "    x = MZp/(gBL**2) - (g1BL**2 * v)/4\n",
    "    \n",
    "    Mu2 = (1/8)*((2*g1BL*gBL*x*np.cos(2*BetaP) - 4*mHd2 + 4*mHu2)/np.cos(2*Beta)- 4*(mHd2 + mHu2) - (g1**2 + g1BL**2 + g2**2)*v)\n",
    "    \n",
    "    BMu = -(1/8)*(-2*g1BL*gBL*x*np.cos(2*BetaP)+4*mHd2-4*mHu2 + (g1**2 + g1BL**2 + g2**2)*v*np.cos(2*Beta))*np.tan(2*Beta)\n",
    "    \n",
    "    MuP2 = (1/4)*(-2*(gBL**2*x + mN12 + mN22) + (2*mN12 - 2*mN22+ g1BL*gBL*v*np.cos(2*Beta))/np.cos(2*BetaP))\n",
    "    \n",
    "    BMuP = (1/4)*(-2*gBL**2 *x*np.cos(2*BetaP)+2*mN12-2*mN22 + g1BL*gBL*v*np.cos(2*Beta))*np.tan(2*BetaP)\n",
    "    \n",
    "    return np.sqrt(abs(Mu2)), abs(BMu), np.sqrt(abs(MuP2)), abs(BMuP)"
   ]
  },
  {
   "cell_type": "code",
   "execution_count": 4,
   "id": "91245a06",
   "metadata": {},
   "outputs": [
    {
     "name": "stdout",
     "output_type": "stream",
     "text": [
      "# TanBeta setted to : 5.000000E+00\n",
      "# TBetaP setted to : 1.150000E+00\n",
      "# MZp setted to : 2.700000E+03\n",
      "# MZp setted to : 2.700000E+03\n",
      "# TBetaP setted to : 1.150000E+00\n",
      "# gBLinput setted to : 5.500000E-01\n",
      "# g1BLinput setted to : -1.200000E-01\n",
      "# MuInput setted to : 1.251614E+03\n",
      "# MuPInput setted to : 1.589399E+03\n",
      "# BMuInput setted to : 2.314053E+06\n",
      "# BMuPInput setted to : 2.874073E+06\n",
      "Block MINPAR   # INPUT PARAMETERS\n",
      "1      1.0000000E+03       # m0         \n",
      "2      1.5000000E+03       # m12        \n",
      "3      5.000000E+00        # TanBeta    \n",
      "4      1.0000000E+00       # SignumMu   \n",
      "5      -1.5000000E+03      # Azero      \n",
      "6      1.0000000E+00       # SignumMuP  \n",
      "7      1.150000E+00        # TBetaP     \n",
      "8      2.700000E+03        # MZp        \n",
      "Block EXTPAR   # INPUT PARAMETERS\n",
      "1      5.500000E-01        # gBLinput   \n",
      "2      -1.200000E-01       # g1BLinput  \n",
      "3      2.700000E+03        # MZp        \n",
      "10     1.150000E+00        # TBetaP     \n",
      "11     1.251614E+03        # MuInput    \n",
      "12     1.589399E+03        # MuPInput   \n",
      "13     2.314053E+06        # BMuInput   \n",
      "14     2.874073E+06        # BMuPInput  \n"
     ]
    }
   ],
   "source": [
    "# Fixed parameters\n",
    "option, value = [3,7,8], [5,1.15,2700]\n",
    "for i,j in zip(option, value):\n",
    "    lhs.block('MINPAR').set(i,j)\n",
    "\n",
    "Mu, BMu, MuP, BMuP = parameters()\n",
    "\n",
    "option, value = [3,10,1,2,11,12,13,14], [2700,1.15,0.55,-0.12,Mu,MuP,BMu, BMuP]\n",
    "for i,j in zip(option, value):\n",
    "    lhs.block('EXTPAR').set(i,j)\n",
    "    \n",
    "lhs.block('MINPAR').show()\n",
    "lhs.block('EXTPAR').show()"
   ]
  },
  {
   "cell_type": "code",
   "execution_count": 5,
   "id": "6230335f",
   "metadata": {},
   "outputs": [
    {
     "name": "stdout",
     "output_type": "stream",
     "text": [
      "# 3-Body decays: none (0), fermion (1), scalar (2), both (3) setted to : 3\n",
      "# One-loop decays setted to : 0\n",
      "# Output for MadGraph (writes also vanishing blocks) setted to : 1\n",
      "# Write effective Higgs couplings (HiggsBounds blocks): put 0 to use file with MadGraph! setted to : 0\n",
      "# effective Higgs mass calculation setted to : 1\n",
      "# Include possible, kinetic mixing setted to : 1\n",
      "# Calc 3-Body decays of Glu setted to : 0\n",
      "# Calc 3-Body decays of Cha setted to : 0\n",
      "# Calc 3-Body decays of Chi setted to : 0\n",
      "# Calc 3-Body decays of Sd setted to : 0\n",
      "# Calc 3-Body decays of Su setted to : 0\n",
      "# Calc 3-Body decays of Se setted to : 0\n",
      "# Calc 3-Body decays of SvRe setted to : 0\n",
      "# Calc 3-Body decays of SvIm setted to : 0\n",
      "# Calc 3-Body decays of Fv setted to : 0\n",
      "# Loop Decay of Sd setted to : 0\n",
      "# Loop Decay of Su setted to : 0\n",
      "# Loop Decay of Se setted to : 0\n",
      "# Loop Decay of SvRe setted to : 0\n",
      "# Loop Decay of SvIm setted to : 0\n",
      "# Loop Decay of hh setted to : 0\n",
      "# Loop Decay of Ah setted to : 0\n",
      "# Loop Decay of Hpm setted to : 0\n",
      "# Loop Decay of Glu setted to : 0\n",
      "# Loop Decay of Cha setted to : 0\n",
      "# Loop Decay of Chi setted to : 0\n",
      "# Loop Decay of Fu setted to : 0\n",
      "# Loop Decay of Fv setted to : 0\n"
     ]
    }
   ],
   "source": [
    "\n",
    "\n",
    "# Spheno options to run with Madgraph\n",
    "option = [13, 16,78,520,67,60] \n",
    "value  = [3,0,1,0,1,1]\n",
    "for i,j in zip(option, value):\n",
    "    lhs.block('sphenoinput').set(i,j)\n",
    "\n",
    "# Turning off loop decay options because they are already defined\n",
    "option = [1,2,3,4,5,6,7,8,9,1001,1002,1003,1004,1005,1006,1007,1008,1009,1010,1011,1012,1013] \n",
    "value  = np.zeros(len(option),dtype = int)\n",
    "for i,j in zip(option, value):\n",
    "    lhs.block('decayoptions').set(i,int(j))\n",
    "                                  "
   ]
  },
  {
   "cell_type": "code",
   "execution_count": 46,
   "id": "539068bc",
   "metadata": {},
   "outputs": [
    {
     "name": "stdout",
     "output_type": "stream",
     "text": [
      "# m0 setted to : 2.730000E+02\n",
      "# m12 setted to : 3.920000E+03\n",
      "# Azero setted to : 3.842000E+03\n",
      "# TanBeta setted to : 2.000000E+01\n",
      "Writing new LesHouches in :/scratch/mjad1g20/HEP/WorkArea/BLSSM_DoublePeak/SPhenoBLSSM_input/LesHouches.in.BLSSM_HEscan_0\n",
      "Save SPheno.spc.BLSSM_HEscan_0 in :/scratch/mjad1g20/HEP/WorkArea/BLSSM_DoublePeak/SPhenoBLSSM_output/SPheno.spc.BLSSM_HEscan_0\n",
      " Calculating mass spectrum\n",
      "              1 .-iteration\n",
      "   ... reached precision:                  Infinity\n",
      "              2 .-iteration\n",
      "   ... reached precision:   4.3358727247340044E-002\n",
      "              3 .-iteration\n",
      "   ... reached precision:   3.5594082739541584E-003\n",
      "              4 .-iteration\n",
      "   ... reached precision:   2.9760871163914365E-004\n",
      "              5 .-iteration\n",
      "   ... reached precision:   4.7059431288792451E-005\n",
      " Calculate loop corrected masses \n",
      " Calculating branching ratios and decay widths\n",
      " Calculating low energy constraints\n",
      " No consistent solution found for tadpoles: \n",
      " Negative absolute squared: ,Abs2Mu \n",
      " Result:   -265357.49799253850     \n",
      " Writing output files\n",
      " Finished!\n",
      "\n"
     ]
    }
   ],
   "source": [
    "# Scanned parameters \n",
    "m0 = lambda low, high: sc.runiform_float(low,high)\n",
    "m12 = lambda low, high: sc.runiform_float(low,high)\n",
    "a0 = lambda low, high: sc.runiform_float(low,high)\n",
    "N_POINTS = 1\n",
    "\n",
    "points = 0\n",
    "index = []\n",
    "for i in range(N_POINTS):\n",
    "    \n",
    "    lhs.block('MINPAR').set(1,273)\n",
    "    lhs.block('MINPAR').set(2,3920)\n",
    "    lhs.block('MINPAR').set(5,3842)\n",
    "    lhs.block('MINPAR').set(3,20)\n",
    "    new_lhs_name = 'LesHouches.in.BLSSM_HEscan_'+str(i)\n",
    "    out_spheno_name = 'SPheno.spc.BLSSM_HEscan_'+str(i)\n",
    "    # Creating the new LesHouches file, and runing Spheno.\n",
    "    lhs.new_file(new_lhs_name)\n",
    "    param_card_path = SPhenoBLSSM.run(new_lhs_name,out_spheno_name)\n",
    "    # Reading spheno output\n",
    "    #if not(param_card_path==None):\n",
    "    #    points = points + 1\n",
    "    #    index.append(i)\n",
    "        \n",
    "        \n",
    "    "
   ]
  },
  {
   "cell_type": "code",
   "execution_count": 47,
   "id": "2470ebb7",
   "metadata": {},
   "outputs": [],
   "source": [
    "slha = HepRead.Slha('/scratch/mjad1g20/HEP/WorkArea/BLSSM_DoublePeak/SPhenoBLSSM_output/SPheno.spc.BLSSM_HEscan_0')"
   ]
  },
  {
   "cell_type": "code",
   "execution_count": 48,
   "id": "1e6eba95",
   "metadata": {},
   "outputs": [
    {
     "name": "stdout",
     "output_type": "stream",
     "text": [
      "6.514179E+03 1000001\n",
      "6.541891E+03 1000003\n",
      "6.620077E+03 1000005\n",
      "6.620108E+03 2000001\n",
      "6.980340E+03 2000003\n",
      "6.980421E+03 2000005\n",
      "5.719383E+03 1000002\n",
      "6.523838E+03 1000004\n",
      "6.633798E+03 1000006\n",
      "6.633812E+03 2000002\n",
      "6.979880E+03 2000004\n",
      "6.979962E+03 2000006\n",
      "1.345832E+03 1000011\n",
      "1.481350E+03 1000013\n",
      "1.481815E+03 1000015\n",
      "2.642950E+03 2000011\n",
      "2.678758E+03 2000013\n",
      "2.678886E+03 2000015\n",
      "1.718707E+03 1000012\n",
      "1.751580E+03 1000014\n",
      "1.751580E+03 1000016\n",
      "2.640840E+03 2000012\n",
      "2.677180E+03 2000014\n",
      "2.677310E+03 2000016\n",
      "1.858479E+03 4000012\n",
      "2.064127E+03 4000014\n",
      "2.064127E+03 4000016\n",
      "2.640840E+03 5000012\n",
      "2.677180E+03 5000014\n",
      "2.677310E+03 5000016\n",
      "1.171534E+02 25\n",
      "1.450489E+02 35\n",
      "3.930852E+03 9900025\n",
      "4.040171E+03 9900035\n",
      "3.043115E+03 36\n",
      "3.930834E+03 9900036\n",
      "3.927454E+03 37\n",
      "0.000000E+00 22\n",
      "9.118870E+01 23\n",
      "0.000000E+00 21\n",
      "7.884700E+01 24\n",
      "5.000000E-03 1\n",
      "9.500000E-02 3\n",
      "4.180000E+00 5\n",
      "2.500000E-03 2\n",
      "1.270000E+00 4\n",
      "1.735000E+02 6\n",
      "5.109989E-04 11\n",
      "1.056584E-01 13\n",
      "1.776690E+00 15\n",
      "1.251728E-07 12\n",
      "1.253264E-07 14\n",
      "1.355363E-07 16\n",
      "1.908115E+03 112\n",
      "2.059749E+03 114\n",
      "2.059749E+03 116\n",
      "7.811427E+03 1000021\n",
      "3.190874E+03 1000024\n",
      "3.312619E+03 1000037\n",
      "2.744748E+03 31\n",
      "1.050312E+03 1000022\n",
      "1.399489E+03 1000023\n",
      "1.883251E+03 1000025\n",
      "3.191113E+03 1000035\n",
      "3.274101E+03 1000032\n",
      "3.312789E+03 1000036\n",
      "4.101985E+03 1000039\n"
     ]
    }
   ],
   "source": [
    "for i,j in slha.model_particles:\n",
    "    print('{:E}'.format(slha.particle(i).mass ), i)"
   ]
  },
  {
   "cell_type": "code",
   "execution_count": null,
   "id": "d5120949",
   "metadata": {},
   "outputs": [],
   "source": []
  }
 ],
 "metadata": {
  "kernelspec": {
   "display_name": "Python 3 (ipykernel)",
   "language": "python",
   "name": "python3"
  },
  "language_info": {
   "codemirror_mode": {
    "name": "ipython",
    "version": 3
   },
   "file_extension": ".py",
   "mimetype": "text/x-python",
   "name": "python",
   "nbconvert_exporter": "python",
   "pygments_lexer": "ipython3",
   "version": "3.9.6"
  }
 },
 "nbformat": 4,
 "nbformat_minor": 5
}
