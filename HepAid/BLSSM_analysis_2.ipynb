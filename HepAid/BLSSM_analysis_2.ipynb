{
 "cells": [
  {
   "cell_type": "code",
   "execution_count": 1,
   "source": [
    "import numpy as np\n",
    "\n",
    "import HepRead\n",
    "import HepTools\n",
    "\n",
    "import os\n",
    "import matplotlib.pyplot as plt\n",
    "import pandas as pd\n",
    "import mplcyberpunk"
   ],
   "outputs": [],
   "metadata": {}
  },
  {
   "cell_type": "code",
   "execution_count": 45,
   "source": [
    "model = 'BLSSM'\n",
    "work_dir = '/scratch/mjad1g20/HEP/WorkArea/BLSSM_Work'\n",
    "spheno_dir = '/scratch/mjad1g20/HEP/SPHENO/SPheno-3.3.8'\n",
    "reference_lhs = '/scratch/mjad1g20/HEP/SPHENO/SPheno-3.3.8/BLSSM/Input_Files/LesHouches.in.BLSSM'\n",
    "madgraph_dir = '/scratch/mjad1g20/HEP/MG5_aMC_v3_1_1'"
   ],
   "outputs": [],
   "metadata": {}
  },
  {
   "cell_type": "code",
   "execution_count": 2,
   "source": [
    "param_cards_dir = '/Users/madiaz/WorkArea/BLSSM_model_files/BLSSM_work/HEscan_2/SPhenoBLSSM_output'"
   ],
   "outputs": [],
   "metadata": {}
  },
  {
   "cell_type": "code",
   "execution_count": null,
   "source": [
    "h1 = np.array([])\n",
    "h2 = np.array([])\n",
    "cards = np.array([])\n",
    "for card in os.listdir(param_cards_dir):\n",
    "    path = os.path.join(param_cards_dir,card)\n",
    "    try:\n",
    "        slha = HepRead.Slha(path)\n",
    "        h1 = np.append(h1,slha.particle(25).mass)\n",
    "        h2 = np.append(h2,slha.particle(35).mass)\n",
    "        cards = np.append(cards,card)\n",
    "    except:\n",
    "        pass\n",
    "    \n",
    "    \n"
   ],
   "outputs": [],
   "metadata": {}
  },
  {
   "cell_type": "code",
   "execution_count": 15,
   "source": [
    "df = pd.DataFrame(dict(mh1 = h1, mh2 = h2, card_number=cards))\n",
    "df.head()"
   ],
   "outputs": [
    {
     "output_type": "execute_result",
     "data": {
      "text/html": [
       "<div>\n",
       "<style scoped>\n",
       "    .dataframe tbody tr th:only-of-type {\n",
       "        vertical-align: middle;\n",
       "    }\n",
       "\n",
       "    .dataframe tbody tr th {\n",
       "        vertical-align: top;\n",
       "    }\n",
       "\n",
       "    .dataframe thead th {\n",
       "        text-align: right;\n",
       "    }\n",
       "</style>\n",
       "<table border=\"1\" class=\"dataframe\">\n",
       "  <thead>\n",
       "    <tr style=\"text-align: right;\">\n",
       "      <th></th>\n",
       "      <th>mh1</th>\n",
       "      <th>mh2</th>\n",
       "      <th>card_number</th>\n",
       "    </tr>\n",
       "  </thead>\n",
       "  <tbody>\n",
       "    <tr>\n",
       "      <th>0</th>\n",
       "      <td>46.187985</td>\n",
       "      <td>119.054254</td>\n",
       "      <td>SPheno.spc.BLSSM_HEscan_319</td>\n",
       "    </tr>\n",
       "    <tr>\n",
       "      <th>1</th>\n",
       "      <td>98.988446</td>\n",
       "      <td>126.234874</td>\n",
       "      <td>SPheno.spc.BLSSM_HEscan_789</td>\n",
       "    </tr>\n",
       "    <tr>\n",
       "      <th>2</th>\n",
       "      <td>120.384639</td>\n",
       "      <td>205.172272</td>\n",
       "      <td>SPheno.spc.BLSSM_HEscan_22</td>\n",
       "    </tr>\n",
       "    <tr>\n",
       "      <th>3</th>\n",
       "      <td>121.129265</td>\n",
       "      <td>198.130132</td>\n",
       "      <td>SPheno.spc.BLSSM_HEscan_570</td>\n",
       "    </tr>\n",
       "    <tr>\n",
       "      <th>4</th>\n",
       "      <td>117.960378</td>\n",
       "      <td>149.256732</td>\n",
       "      <td>SPheno.spc.BLSSM_HEscan_114</td>\n",
       "    </tr>\n",
       "  </tbody>\n",
       "</table>\n",
       "</div>"
      ],
      "text/plain": [
       "          mh1         mh2                  card_number\n",
       "0   46.187985  119.054254  SPheno.spc.BLSSM_HEscan_319\n",
       "1   98.988446  126.234874  SPheno.spc.BLSSM_HEscan_789\n",
       "2  120.384639  205.172272   SPheno.spc.BLSSM_HEscan_22\n",
       "3  121.129265  198.130132  SPheno.spc.BLSSM_HEscan_570\n",
       "4  117.960378  149.256732  SPheno.spc.BLSSM_HEscan_114"
      ]
     },
     "metadata": {},
     "execution_count": 15
    }
   ],
   "metadata": {}
  },
  {
   "cell_type": "code",
   "execution_count": 11,
   "source": [
    "plt.style.use(\"cyberpunk\")\n",
    "\n",
    "plt.scatter(df.mh2, df.mh1,s=3)\n",
    "plt.ylabel(r'$m_{H1}$ GeV',fontsize=15)\n",
    "plt.xlabel(r'$m_{H2}$ GeV',fontsize=15)\n",
    "plt.title('Scanned points',fontsize=18)\n",
    "plt.show()"
   ],
   "outputs": [
    {
     "output_type": "display_data",
     "data": {
      "image/png": "[encoded data removed]",
      "text/plain": [
       "<Figure size 432x288 with 1 Axes>"
      ]
     },
     "metadata": {}
    }
   ],
   "metadata": {}
  },
  {
   "cell_type": "code",
   "execution_count": 27,
   "source": [
    "df_select = df[(df.mh2 > 125.) & (df.mh2 < 127)]\n",
    "df_select.head()"
   ],
   "outputs": [
    {
     "output_type": "execute_result",
     "data": {
      "text/html": [
       "<div>\n",
       "<style scoped>\n",
       "    .dataframe tbody tr th:only-of-type {\n",
       "        vertical-align: middle;\n",
       "    }\n",
       "\n",
       "    .dataframe tbody tr th {\n",
       "        vertical-align: top;\n",
       "    }\n",
       "\n",
       "    .dataframe thead th {\n",
       "        text-align: right;\n",
       "    }\n",
       "</style>\n",
       "<table border=\"1\" class=\"dataframe\">\n",
       "  <thead>\n",
       "    <tr style=\"text-align: right;\">\n",
       "      <th></th>\n",
       "      <th>mh1</th>\n",
       "      <th>mh2</th>\n",
       "      <th>card_number</th>\n",
       "    </tr>\n",
       "  </thead>\n",
       "  <tbody>\n",
       "    <tr>\n",
       "      <th>1</th>\n",
       "      <td>98.988446</td>\n",
       "      <td>126.234874</td>\n",
       "      <td>SPheno.spc.BLSSM_HEscan_789</td>\n",
       "    </tr>\n",
       "    <tr>\n",
       "      <th>14</th>\n",
       "      <td>101.095415</td>\n",
       "      <td>126.823011</td>\n",
       "      <td>SPheno.spc.BLSSM_HEscan_343</td>\n",
       "    </tr>\n",
       "    <tr>\n",
       "      <th>25</th>\n",
       "      <td>103.373610</td>\n",
       "      <td>125.021553</td>\n",
       "      <td>SPheno.spc.BLSSM_HEscan_381</td>\n",
       "    </tr>\n",
       "    <tr>\n",
       "      <th>33</th>\n",
       "      <td>85.595416</td>\n",
       "      <td>126.644244</td>\n",
       "      <td>SPheno.spc.BLSSM_HEscan_547</td>\n",
       "    </tr>\n",
       "    <tr>\n",
       "      <th>39</th>\n",
       "      <td>77.904835</td>\n",
       "      <td>126.147618</td>\n",
       "      <td>SPheno.spc.BLSSM_HEscan_327</td>\n",
       "    </tr>\n",
       "  </tbody>\n",
       "</table>\n",
       "</div>"
      ],
      "text/plain": [
       "           mh1         mh2                  card_number\n",
       "1    98.988446  126.234874  SPheno.spc.BLSSM_HEscan_789\n",
       "14  101.095415  126.823011  SPheno.spc.BLSSM_HEscan_343\n",
       "25  103.373610  125.021553  SPheno.spc.BLSSM_HEscan_381\n",
       "33   85.595416  126.644244  SPheno.spc.BLSSM_HEscan_547\n",
       "39   77.904835  126.147618  SPheno.spc.BLSSM_HEscan_327"
      ]
     },
     "metadata": {},
     "execution_count": 27
    }
   ],
   "metadata": {}
  },
  {
   "cell_type": "code",
   "execution_count": 28,
   "source": [
    "plt.style.use(\"cyberpunk\")\n",
    "\n",
    "plt.scatter(df_select.mh2, df_select.mh1,s=20)\n",
    "plt.ylabel(r'$m_{H1}$ GeV',fontsize=15)\n",
    "plt.xlabel(r'$m_{H2}$ GeV',fontsize=15)\n",
    "plt.title('Points to recreate the paper',fontsize=18)\n",
    "plt.show()"
   ],
   "outputs": [
    {
     "output_type": "display_data",
     "data": {
      "image/png": "[encoded data removed]",
      "text/plain": [
       "<Figure size 432x288 with 1 Axes>"
      ]
     },
     "metadata": {}
    }
   ],
   "metadata": {}
  },
  {
   "cell_type": "code",
   "execution_count": 31,
   "source": [
    "df_select[(df_select.mh1 < 93) & (df_select.mh1 > 87)]"
   ],
   "outputs": [
    {
     "output_type": "execute_result",
     "data": {
      "text/html": [
       "<div>\n",
       "<style scoped>\n",
       "    .dataframe tbody tr th:only-of-type {\n",
       "        vertical-align: middle;\n",
       "    }\n",
       "\n",
       "    .dataframe tbody tr th {\n",
       "        vertical-align: top;\n",
       "    }\n",
       "\n",
       "    .dataframe thead th {\n",
       "        text-align: right;\n",
       "    }\n",
       "</style>\n",
       "<table border=\"1\" class=\"dataframe\">\n",
       "  <thead>\n",
       "    <tr style=\"text-align: right;\">\n",
       "      <th></th>\n",
       "      <th>mh1</th>\n",
       "      <th>mh2</th>\n",
       "      <th>card_number</th>\n",
       "    </tr>\n",
       "  </thead>\n",
       "  <tbody>\n",
       "    <tr>\n",
       "      <th>82</th>\n",
       "      <td>91.007744</td>\n",
       "      <td>126.471852</td>\n",
       "      <td>SPheno.spc.BLSSM_HEscan_855</td>\n",
       "    </tr>\n",
       "    <tr>\n",
       "      <th>193</th>\n",
       "      <td>92.837219</td>\n",
       "      <td>126.440641</td>\n",
       "      <td>SPheno.spc.BLSSM_HEscan_506</td>\n",
       "    </tr>\n",
       "    <tr>\n",
       "      <th>239</th>\n",
       "      <td>92.068742</td>\n",
       "      <td>125.572154</td>\n",
       "      <td>SPheno.spc.BLSSM_HEscan_770</td>\n",
       "    </tr>\n",
       "  </tbody>\n",
       "</table>\n",
       "</div>"
      ],
      "text/plain": [
       "           mh1         mh2                  card_number\n",
       "82   91.007744  126.471852  SPheno.spc.BLSSM_HEscan_855\n",
       "193  92.837219  126.440641  SPheno.spc.BLSSM_HEscan_506\n",
       "239  92.068742  125.572154  SPheno.spc.BLSSM_HEscan_770"
      ]
     },
     "metadata": {},
     "execution_count": 31
    }
   ],
   "metadata": {}
  },
  {
   "cell_type": "code",
   "execution_count": 47,
   "source": [
    "selected_param_card = df.iloc[239].card_number\n",
    "print('Param card : {}'.format(selected_param_card))\n",
    "os.path.join(param_cards_dir,selected_param_card)"
   ],
   "outputs": [
    {
     "output_type": "stream",
     "name": "stdout",
     "text": [
      "Param card : SPheno.spc.BLSSM_HEscan_770\n"
     ]
    },
    {
     "output_type": "execute_result",
     "data": {
      "text/plain": [
       "'/Users/madiaz/WorkArea/BLSSM_model_files/BLSSM_work/HEscan_2/SPhenoBLSSM_output/SPheno.spc.BLSSM_HEscan_770'"
      ]
     },
     "metadata": {},
     "execution_count": 47
    }
   ],
   "metadata": {}
  },
  {
   "cell_type": "markdown",
   "source": [
    "# Events\n",
    "### $\\{h1,h2\\} \\rightarrow \\gamma \\gamma$"
   ],
   "metadata": {}
  },
  {
   "cell_type": "code",
   "execution_count": 2,
   "source": [
    "from pathlib import Path\n",
    "import uproot\n",
    "import awkward as ak\n",
    "plt.style.use(\"cyberpunk\")"
   ],
   "outputs": [],
   "metadata": {}
  },
  {
   "cell_type": "code",
   "execution_count": 121,
   "source": [
    "root_files_dir = '/Users/madiaz/WorkArea/BLSSM_model_files/BLSSM_work/HEscan_2'\n",
    "processes = ['ppaa_bg', 'pph1aa', 'pph2aa']\n",
    "\n",
    "for p in processes[1:]:\n",
    "    root_file = Path(root_files_dir).joinpath(p).joinpath('tag_1_delphes_events.root')\n",
    "\n",
    "\n",
    "    file = uproot.open(root_file)\n",
    "    photons = file['Delphes']['Photon']\n",
    "\n",
    "    select=ak.num(photons['Photon.PT'].array())==2\n",
    "\n",
    "    a_PT = photons['Photon.PT'].array()[select]\n",
    "    a_Phi = photons['Photon.Phi'].array()[select]\n",
    "    a_Eta = photons['Photon.Eta'].array()[select]\n",
    "    a_E = photons['Photon.E'].array()[select]\n",
    "\n",
    "    a_px = a_PT*np.cos(a_Phi)\n",
    "    a_py = a_PT*np.sin(a_Phi)\n",
    "    a_pz = a_PT*np.sinh(a_Eta)\n",
    "\n",
    "    imass_diph = np.sqrt(ak.sum(a_E,axis=1)**2-ak.sum(a_px,axis=1)**2-ak.sum(a_py,axis=1)**2-ak.sum(a_pz,axis=1)**2).to_numpy()\n",
    "\n",
    "  \n",
    "\n",
    "    cross_sections = file['Delphes;1']['Event.CrossSection'].array()\n",
    "    n_events_total = len(file['Delphes;1']['Event.CrossSection'].array())\n",
    "    cross_sections = cross_sections[select]\n",
    "    n_events = np.ones(len(cross_sections))*n_events_total\n",
    "    L_mc = n_events*(cross_sections**-1)\n",
    "    L_data = 35.9\n",
    "    weights=  (L_data*L_mc**-1)*10**3\n",
    "\n",
    "    w1 = 1\n",
    "    n1 = int((180 - 50)/w1)\n",
    "\n",
    "\n",
    "    plt.hist(   imass_diph,bins=n1, range=(50, 180), density=False,\n",
    "                linewidth=1, histtype='step', label=p, weights=weights)\n",
    "\n",
    "    plt.legend()\n",
    "\n",
    "plt.xlabel(r'$M_{\\gamma\\gamma}$',fontsize=15)\n",
    "plt.ylabel('Number of events / {} GeV'.format(w1),fontsize=15)\n",
    "plt.title(r'$L_{data}=35.9 (fb^{-1})$',fontsize=15)\n",
    "#plt.title('Weights from Events in root file')\n",
    "plt.show()\n"
   ],
   "outputs": [
    {
     "output_type": "display_data",
     "data": {
      "image/png": "[encoded data removed]",
      "text/plain": [
       "<Figure size 432x288 with 1 Axes>"
      ]
     },
     "metadata": {}
    }
   ],
   "metadata": {}
  },
  {
   "cell_type": "code",
   "execution_count": 122,
   "source": [
    "root_files_dir = '/Users/madiaz/WorkArea/BLSSM_model_files/BLSSM_work/HEscan_2'\n",
    "processes = ['ppaa_bg', 'pph1aa', 'pph2aa']\n",
    "\n",
    "for p in processes:\n",
    "    root_file = Path(root_files_dir).joinpath(p).joinpath('tag_1_delphes_events.root')\n",
    "\n",
    "\n",
    "    file = uproot.open(root_file)\n",
    "    photons = file['Delphes']['Photon']\n",
    "\n",
    "    select=ak.num(photons['Photon.PT'].array())==2\n",
    "\n",
    "    a_PT = photons['Photon.PT'].array()[select]\n",
    "    a_Phi = photons['Photon.Phi'].array()[select]\n",
    "    a_Eta = photons['Photon.Eta'].array()[select]\n",
    "    a_E = photons['Photon.E'].array()[select]\n",
    "\n",
    "    a_px = a_PT*np.cos(a_Phi)\n",
    "    a_py = a_PT*np.sin(a_Phi)\n",
    "    a_pz = a_PT*np.sinh(a_Eta)\n",
    "\n",
    "    imass_diph = np.sqrt(ak.sum(a_E,axis=1)**2-ak.sum(a_px,axis=1)**2-ak.sum(a_py,axis=1)**2-ak.sum(a_pz,axis=1)**2).to_numpy()\n",
    "\n",
    "  \n",
    "\n",
    "    cross_sections = file['Delphes;1']['Event.CrossSection'].array()\n",
    "    n_events_total = len(file['Delphes;1']['Event.CrossSection'].array())\n",
    "    cross_sections = cross_sections[select]\n",
    "    n_events = np.ones(len(cross_sections))*n_events_total\n",
    "    L_mc = n_events*(cross_sections**-1)\n",
    "    L_data = 35.9\n",
    "    weights=  (L_data*L_mc**-1)*10**3\n",
    "\n",
    "    w1 = 1\n",
    "    n1 = int((180 - 50)/w1)\n",
    "\n",
    "\n",
    "    plt.hist(   imass_diph,bins=n1, range=(50, 180), density=False,\n",
    "                linewidth=1, histtype='step', label=p, weights=weights)\n",
    "\n",
    "    plt.legend()\n",
    "\n",
    "plt.xlabel(r'$M_{\\gamma\\gamma}$',fontsize=15)\n",
    "plt.ylabel('Number of events / {} GeV'.format(w1),fontsize=15)\n",
    "plt.title(r'$L_{data}=35.9 (fb^{-1})$',fontsize=15)\n",
    "#plt.title('Weights from Events in root file')\n",
    "plt.show()"
   ],
   "outputs": [
    {
     "output_type": "display_data",
     "data": {
      "image/png": "[encoded data removed]",
      "text/plain": [
       "<Figure size 432x288 with 1 Axes>"
      ]
     },
     "metadata": {}
    }
   ],
   "metadata": {}
  }
 ],
 "metadata": {
  "interpreter": {
   "hash": "62e223c1476898eed7b2f6b1f1762961ca5226ee60a590d6a9f97876055d58be"
  },
  "kernelspec": {
   "name": "python3",
   "display_name": "Python 3.9.4 64-bit ('heptools': conda)"
  },
  "language_info": {
   "codemirror_mode": {
    "name": "ipython",
    "version": 3
   },
   "file_extension": ".py",
   "mimetype": "text/x-python",
   "name": "python",
   "nbconvert_exporter": "python",
   "pygments_lexer": "ipython3",
   "version": "3.9.4"
  }
 },
 "nbformat": 4,
 "nbformat_minor": 2
}