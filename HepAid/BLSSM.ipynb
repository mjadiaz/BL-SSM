{
 "cells": [
  {
   "cell_type": "code",
   "execution_count": 11,
   "source": [
    "import numpy as np\n",
    "\n",
    "import HepRead\n",
    "import HepTools\n",
    "\n",
    "from HepTools import Scanner as sc\n",
    "\n",
    "import matplotlib.pyplot as plt"
   ],
   "outputs": [],
   "metadata": {}
  },
  {
   "cell_type": "markdown",
   "source": [
    "### Set up the directories\n"
   ],
   "metadata": {}
  },
  {
   "cell_type": "code",
   "execution_count": 2,
   "source": [
    "model = 'BLSSM'\n",
    "work_dir = '/scratch/mjad1g20/HEP/WorkArea/BLSSM_Work'\n",
    "spheno_dir = '/scratch/mjad1g20/HEP/SPHENO/SPheno-3.3.8'\n",
    "reference_lhs = '/scratch/mjad1g20/HEP/SPHENO/SPheno-3.3.8/BLSSM/Input_Files/LesHouches.in.BLSSM'\n",
    "madgraph_dir = '/scratch/mjad1g20/HEP/MG5_aMC_v3_1_1'"
   ],
   "outputs": [],
   "metadata": {}
  },
  {
   "cell_type": "markdown",
   "source": [
    "---\n",
    "\n",
    "Calling HepTools.Spheno( ) will initiate the Spheno module with an specific model. HepRead.LesHouches will read the reference LesHouches file in initiate an instance for the LesHouches class, so that we can change the parameters of the models and do scans later.\n",
    "\n",
    "\n"
   ],
   "metadata": {}
  },
  {
   "cell_type": "code",
   "execution_count": 3,
   "source": [
    "SPhenoBLSSM = HepTools.Spheno(spheno_dir, work_dir ,model)\n",
    "lhs  = HepRead.LesHouches(reference_lhs, work_dir, model)"
   ],
   "outputs": [
    {
     "output_type": "stream",
     "name": "stdout",
     "text": [
      "BLSSM model activated.\n",
      "Reading LesHouches from : /scratch/mjad1g20/HEP/SPHENO/SPheno-3.3.8/BLSSM/Input_Files/LesHouches.in.BLSSM\n"
     ]
    }
   ],
   "metadata": {}
  },
  {
   "cell_type": "markdown",
   "source": [
    "---\n",
    "\n",
    "We want to recreate the scans made in : [Di-photon decay of a light Higgs state in the BLSSM](https://arxiv.org/pdf/2012.04952.pdf). We use as a reference LesHouches the HighEnergy input for SPheno. They scan through the following parameters: \n",
    "\n",
    "$$\n",
    "\\begin{array}{|c|c|}\n",
    "\\hline \\text { Parameter } & \\text { Range } \\\\\n",
    "\\hline M_{0} & 100-1000 \\mathrm{GeV} \\\\\n",
    "\\hline M_{\\frac{1}{2}} & 1000-4500 \\mathrm{GeV} \\\\\n",
    "\\hline \\tan \\beta & 1-60 \\\\\n",
    "\\hline A_{0} & 1000-4000 \\mathrm{GeV} \\\\\n",
    "\\hline\n",
    "\\end{array}\n",
    "$$\n",
    "\n",
    "They keep fixed $m_{Z^{\\prime}}=2500 \\ \\mathrm{ GeV}, \\tan \\beta^{\\prime}=1.15$ and $\\mu=\\mu^{\\prime}=B_{\\mu}=B_{\\mu^{\\prime}}=0$. \n",
    "\n",
    "- They scan $\\tan \\beta$ but we will fixed it at $\\tan \\beta = 5$\n"
   ],
   "metadata": {}
  },
  {
   "cell_type": "code",
   "execution_count": 4,
   "source": [
    "print('Blocks in High Energy LesHouches:')\n",
    "print('---------------------------------')\n",
    "print(lhs.block_list)"
   ],
   "outputs": [
    {
     "output_type": "stream",
     "name": "stdout",
     "text": [
      "Blocks in High Energy LesHouches:\n",
      "---------------------------------\n",
      "['MODSEL', 'SMINPUTS', 'MINPAR', 'EXTPAR', 'SPHENOINPUT', 'DECAYOPTIONS', 'YXIN', 'YVIN']\n"
     ]
    }
   ],
   "metadata": {}
  },
  {
   "cell_type": "code",
   "execution_count": 5,
   "source": [
    "lhs.block('MODSEL').show()\n",
    "lhs.block('SMINPUTS').show()"
   ],
   "outputs": [
    {
     "output_type": "stream",
     "name": "stdout",
     "text": [
      "Block MODSEL   #         \n",
      "1      1                   #  1/0: High/low scale input\n",
      "2      1                   # Boundary Condition\n",
      "6      1                   # Generation Mixing\n",
      "Block SMINPUTS   # STANDARD MODEL INPUTS\n",
      "2      1.166370E-05        # G_F,Fermi constant\n",
      "3      1.187000E-01        # alpha_s(MZ) SM MSbar\n",
      "4      9.118870E+01        # Z-boson pole mass\n",
      "5      4.180000E+00        # m_b(mb) SM MSbar\n",
      "6      1.735000E+02        # m_top(pole)\n",
      "7      1.776690E+00        # m_tau(pole)\n"
     ]
    }
   ],
   "metadata": {}
  },
  {
   "cell_type": "code",
   "execution_count": 6,
   "source": [
    "lhs.block('MINPAR').set(8,2500)\n",
    "lhs.block('MINPAR').set(7,1.15)\n",
    "lhs.block('MINPAR').set(3,5)\n",
    "lhs.block('MINPAR').show()"
   ],
   "outputs": [
    {
     "output_type": "stream",
     "name": "stdout",
     "text": [
      "# MZp setted to : 2.500000E+03\n",
      "# TBetaP setted to : 1.150000E+00\n",
      "# TanBeta setted to : 5.000000E+00\n",
      "Block MINPAR   # INPUT PARAMETERS\n",
      "1      1.0000000E+03       # m0         \n",
      "2      1.5000000E+03       # m12        \n",
      "3      5.000000E+00        # TanBeta    \n",
      "4      1.0000000E+00       # SignumMu   \n",
      "5      -1.5000000E+03      # Azero      \n",
      "6      1.0000000E+00       # SignumMuP  \n",
      "7      1.150000E+00        # TBetaP     \n",
      "8      2.500000E+03        # MZp        \n"
     ]
    }
   ],
   "metadata": {}
  },
  {
   "cell_type": "code",
   "execution_count": 7,
   "source": [
    "[lhs.block('extpar').set(i,0) for i in [11,12,13,14]]\n",
    "lhs.block('extpar').set(3,2500)\n",
    "lhs.block('extpar').set(10,1.15)\n",
    "lhs.block('extpar').set(1,0.55)\n",
    "lhs.block('extpar').set(2,-0.12)\n",
    "lhs.block('extpar').show()"
   ],
   "outputs": [
    {
     "output_type": "stream",
     "name": "stdout",
     "text": [
      "# MuInput setted to : 0.000000E+00\n",
      "# MuPInput setted to : 0.000000E+00\n",
      "# BMuInput setted to : 0.000000E+00\n",
      "# BMuPInput setted to : 0.000000E+00\n",
      "# MZp setted to : 2.500000E+03\n",
      "# TBetaP setted to : 1.150000E+00\n",
      "# gBLinput setted to : 5.500000E-01\n",
      "# g1BLinput setted to : -1.200000E-01\n",
      "Block EXTPAR   # INPUT PARAMETERS\n",
      "1      5.500000E-01        # gBLinput   \n",
      "2      -1.200000E-01       # g1BLinput  \n",
      "3      2.500000E+03        # MZp        \n",
      "10     1.150000E+00        # TBetaP     \n",
      "11     0.000000E+00        # MuInput    \n",
      "12     0.000000E+00        # MuPInput   \n",
      "13     0.000000E+00        # BMuInput   \n",
      "14     0.000000E+00        # BMuPInput  \n"
     ]
    }
   ],
   "metadata": {}
  },
  {
   "cell_type": "markdown",
   "source": [
    "Set the SPheno options:"
   ],
   "metadata": {}
  },
  {
   "cell_type": "code",
   "execution_count": 8,
   "source": [
    "option = [13, 16,78,520,67,60] \n",
    "value  = [3,0,1,0,1,1]\n",
    "for i,j in zip(option, value):\n",
    "    lhs.block('sphenoinput').set(i,j)\n",
    "lhs.block('sphenoinput').show()\n"
   ],
   "outputs": [
    {
     "output_type": "stream",
     "name": "stdout",
     "text": [
      "# 3-Body decays: none (0), fermion (1), scalar (2), both (3) setted to : 3\n",
      "# One-loop decays setted to : 0\n",
      "# Output for MadGraph (writes also vanishing blocks) setted to : 1\n",
      "# Write effective Higgs couplings (HiggsBounds blocks): put 0 to use file with MadGraph! setted to : 0\n",
      "# effective Higgs mass calculation setted to : 1\n",
      "# Include possible, kinetic mixing setted to : 1\n",
      "Block SPHENOINPUT   # SPHENO SPECIFIC INPUT\n",
      "1      -1                  # error level\n",
      "2      0                   # SPA conventions\n",
      "7      0                   # Skip 2-loop Higgs corrections\n",
      "8      3                   # Method used for two-loop calculation\n",
      "9      1                   # Gaugeless limit used at two-loop\n",
      "10     0                   # safe-mode used at two-loop\n",
      "11     1                   # calculate branching ratios\n",
      "13     3                   # 3-Body decays: none (0), fermion (1), scalar (2), both (3)\n",
      "14     0                   # Run couplings to scale of decaying particle\n",
      "12     1.000E-04           # write only branching ratios larger than this value\n",
      "15     1.000E-30           # write only decay if width larger than this value\n",
      "16     0                   # One-loop decays\n",
      "19     -2                  # Matching order (-2:automatic, -1:pole, 0-2: tree, one- & two-loop)\n",
      "31     -1                  # fixed GUT scale (-1: dynamical GUT scale)\n",
      "32     0                   # Strict unification\n",
      "34     1.000E-04           # Precision of mass calculation\n",
      "35     40                  # Maximal number of iterations\n",
      "36     5                   # Minimal number of iterations before discarding points\n",
      "37     1                   # Set Yukawa scheme\n",
      "38     2                   # 1- or 2-Loop RGEs\n",
      "50     1                   # Majorana phases: use only positive masses (put 0 to use file with CalcHep/Micromegas!)\n",
      "51     0                   # Write Output in CKM basis\n",
      "52     0                   # Write spectrum in case of tachyonic states\n",
      "55     1                   # Calculate loop corrected masses\n",
      "57     1                   # Calculate low energy constraints\n",
      "60     1                   # Include possible, kinetic mixing\n",
      "65     1                   # Solution tadpole equation\n",
      "66     1                   # Two-Scale Matching\n",
      "67     1                   # effective Higgs mass calculation\n",
      "75     0                   # Write WHIZARD files\n",
      "76     2                   # Write HiggsBounds file: 2 for HiggsBounds5, 1 for HiggsBounds4 and below\n",
      "77     0                   # Output for MicrOmegas (running masses for light quarks; real mixing matrices)\n",
      "78     1                   # Output for MadGraph (writes also vanishing blocks)\n",
      "79     0                   # Write WCXF files (exchange format for Wilson coefficients)\n",
      "86     0.                  # Maximal width to be counted as invisible in Higgs decays; -1: only LSP\n",
      "510    0.                  # Write tree level values for tadpole solutions\n",
      "515    0                   # Write parameter values at GUT scale\n",
      "520    0                   # Write effective Higgs couplings (HiggsBounds blocks): put 0 to use file with MadGraph!\n",
      "521    1.                  # Diphoton/Digluon widths including higher order\n",
      "525    0.                  # Write loop contributions to diphoton decay of Higgs\n",
      "530    0.                  # Write Blocks for Vevacious\n"
     ]
    }
   ],
   "metadata": {}
  },
  {
   "cell_type": "code",
   "execution_count": 9,
   "source": [
    "option = [1,2,3,4,5,6,7,8,9,1001,1002,1003,1004,1005,1006,1007,1008,1009,1010,1011,1012,1013] \n",
    "value  = np.zeros(len(option),dtype = int)\n",
    "for i,j in zip(option, value):\n",
    "    lhs.block('decayoptions').set(i,int(j))\n",
    "                                  \n",
    "lhs.block('decayoptions').show()\n"
   ],
   "outputs": [
    {
     "output_type": "stream",
     "name": "stdout",
     "text": [
      "# Calc 3-Body decays of Glu setted to : 0\n",
      "# Calc 3-Body decays of Cha setted to : 0\n",
      "# Calc 3-Body decays of Chi setted to : 0\n",
      "# Calc 3-Body decays of Sd setted to : 0\n",
      "# Calc 3-Body decays of Su setted to : 0\n",
      "# Calc 3-Body decays of Se setted to : 0\n",
      "# Calc 3-Body decays of SvRe setted to : 0\n",
      "# Calc 3-Body decays of SvIm setted to : 0\n",
      "# Calc 3-Body decays of Fv setted to : 0\n",
      "# Loop Decay of Sd setted to : 0\n",
      "# Loop Decay of Su setted to : 0\n",
      "# Loop Decay of Se setted to : 0\n",
      "# Loop Decay of SvRe setted to : 0\n",
      "# Loop Decay of SvIm setted to : 0\n",
      "# Loop Decay of hh setted to : 0\n",
      "# Loop Decay of Ah setted to : 0\n",
      "# Loop Decay of Hpm setted to : 0\n",
      "# Loop Decay of Glu setted to : 0\n",
      "# Loop Decay of Cha setted to : 0\n",
      "# Loop Decay of Chi setted to : 0\n",
      "# Loop Decay of Fu setted to : 0\n",
      "# Loop Decay of Fv setted to : 0\n",
      "Block DECAYOPTIONS   # OPTIONS TO TURN ON/OFF SPECIFIC DECAYS\n",
      "1      0                   # Calc 3-Body decays of Glu\n",
      "2      0                   # Calc 3-Body decays of Cha\n",
      "3      0                   # Calc 3-Body decays of Chi\n",
      "4      0                   # Calc 3-Body decays of Sd\n",
      "5      0                   # Calc 3-Body decays of Su\n",
      "6      0                   # Calc 3-Body decays of Se\n",
      "7      0                   # Calc 3-Body decays of SvRe\n",
      "8      0                   # Calc 3-Body decays of SvIm\n",
      "9      0                   # Calc 3-Body decays of Fv\n",
      "1001   0                   # Loop Decay of Sd\n",
      "1002   0                   # Loop Decay of Su\n",
      "1003   0                   # Loop Decay of Se\n",
      "1004   0                   # Loop Decay of SvRe\n",
      "1005   0                   # Loop Decay of SvIm\n",
      "1006   0                   # Loop Decay of hh\n",
      "1007   0                   # Loop Decay of Ah\n",
      "1008   0                   # Loop Decay of Hpm\n",
      "1009   0                   # Loop Decay of Glu\n",
      "1010   0                   # Loop Decay of Cha\n",
      "1011   0                   # Loop Decay of Chi\n",
      "1012   0                   # Loop Decay of Fu\n",
      "1013   0                   # Loop Decay of Fv\n",
      "1114   1.                  # U-factors (0: off, 1:p2_i=m2_i, 2:p2=0, p3:p2_i=m2_1)\n",
      "1115   1.                  # Use loop-corrected masses for external states\n",
      "1116   0.                  # OS values for W,Z and fermions (0: off, 1:g1,g2,v 2:g1,g2,v,Y_i)\n",
      "1117   0.                  # Use defined counter-terms\n",
      "1118   1.                  # Use everywhere loop-corrected masses for loop-induced decays\n"
     ]
    }
   ],
   "metadata": {}
  },
  {
   "cell_type": "markdown",
   "source": [
    "---\n",
    "\n",
    "So the parameters that we want to scan are (1,$M_{0}$), (2,$M_{\\frac{1}{2}}$) and (5,$A_{0}$) wich are in the 'MINPAR' block on the LesHouches file."
   ],
   "metadata": {}
  },
  {
   "cell_type": "code",
   "execution_count": 38,
   "source": [
    "m0 = lambda low, high: sc.runiform_float(low,high)\n",
    "m12 = lambda low, high: sc.runiform_float(low,high)\n",
    "a0 = lambda low, high: sc.runiform_float(low,high)\n",
    "tanbeta = lambda low, high: sc.runiform_float(low,high)\n",
    "N_POINTS = 2\n",
    "\n",
    "points = 0\n",
    "index = []\n",
    "for i in range(N_POINTS):\n",
    "    \n",
    "    lhs.block('MINPAR').set(1,m0(100,1000))\n",
    "    lhs.block('MINPAR').set(2,m12(1000,4500))\n",
    "    lhs.block('MINPAR').set(5,a0(1000,4000))\n",
    "    #lhs.block('MINPAR').set(3,tanbeta(1,60))\n",
    "    new_lhs_name = 'LesHouches.in.BLSSM_HEscan_'+str(i)\n",
    "    out_spheno_name = 'SPheno.spc.BLSSM_HEscan_'+str(i)\n",
    "    # Creating the new LesHouches file, and runing Spheno.\n",
    "    lhs.new_file(new_lhs_name)\n",
    "    param_card_path = SPhenoBLSSM.run(new_lhs_name,out_spheno_name)\n",
    "    # Reading spheno output\n",
    "    if not(param_card_path==None):\n",
    "        points = points + 1\n",
    "        index.append(i)\n",
    "        \n",
    "        \n",
    "        \n",
    "with open('number_of_points.txt','w+') as f:\n",
    "    f.write(f'{points} \\n')\n",
    "    for i in index:\n",
    "        f.write(f'{i} \\n')\n",
    "    "
   ],
   "outputs": [
    {
     "output_type": "stream",
     "name": "stdout",
     "text": [
      "# m0 setted to : 6.369479E+02\n",
      "# m12 setted to : 1.528573E+03\n",
      "# Azero setted to : 3.458503E+03\n",
      "Writing new LesHouches in :/scratch/mjad1g20/HEP/WorkArea/BLSSM_Work/SPhenoBLSSM_input/LesHouches.in.BLSSM_HEscan_0\n",
      "Save SPheno.spc.BLSSM_HEscan_0 in :/scratch/mjad1g20/HEP/WorkArea/BLSSM_Work/SPhenoBLSSM_output/SPheno.spc.BLSSM_HEscan_0\n",
      " Calculating mass spectrum\n",
      "              1 .-iteration\n",
      "   ... reached precision:                  Infinity\n",
      "              2 .-iteration\n",
      "   ... reached precision:   4.2240859922164510E-002\n",
      "              3 .-iteration\n",
      "   ... reached precision:   3.5579881820811511E-003\n",
      "              4 .-iteration\n",
      "   ... reached precision:   2.8115761169634232E-004\n",
      "              5 .-iteration\n",
      "   ... reached precision:   2.6881926811618546E-005\n",
      " Calculate loop corrected masses \n",
      " Calculating branching ratios and decay widths\n",
      " Calculating low energy constraints\n",
      " Writing output files\n",
      " Finished!\n",
      "\n",
      "Successful point: \n",
      "H1 mass:  102.296339\n",
      "H2 mass:  118.985977\n",
      "# m0 setted to : 9.164002E+02\n",
      "# m12 setted to : 2.799884E+03\n",
      "# Azero setted to : 2.032689E+03\n",
      "Writing new LesHouches in :/scratch/mjad1g20/HEP/WorkArea/BLSSM_Work/SPhenoBLSSM_input/LesHouches.in.BLSSM_HEscan_1\n",
      "Save SPheno.spc.BLSSM_HEscan_1 in :/scratch/mjad1g20/HEP/WorkArea/BLSSM_Work/SPhenoBLSSM_output/SPheno.spc.BLSSM_HEscan_1\n",
      " Calculating mass spectrum\n",
      "              1 .-iteration\n",
      "   ... reached precision:                  Infinity\n",
      "              2 .-iteration\n",
      "   ... reached precision:   9.8792544070489138E-002\n",
      "              3 .-iteration\n",
      "   ... reached precision:   3.7287540438252727E-002\n",
      "              4 .-iteration\n",
      "   ... reached precision:   2.1186711428682011E-003\n",
      "              5 .-iteration\n",
      "   ... reached precision:   3.7176319767911797E-004\n",
      "              6 .-iteration\n",
      "   ... reached precision:   4.4222704224428821E-004\n",
      "              7 .-iteration\n",
      "   ... reached precision:   3.5554052006228761E-004\n",
      "              8 .-iteration\n",
      "   ... reached precision:   1.0853724416151927E-004\n",
      "              9 .-iteration\n",
      "   ... reached precision:   4.6080211400543547E-004\n",
      "             10 .-iteration\n",
      "   ... reached precision:   3.5276909723652315E-004\n",
      "             11 .-iteration\n",
      "   ... reached precision:   1.0824700532931720E-004\n",
      "             12 .-iteration\n",
      "   ... reached precision:   4.6083718326316383E-004\n",
      "             13 .-iteration\n",
      "   ... reached precision:   3.5276512465234232E-004\n",
      "             14 .-iteration\n",
      "   ... reached precision:   1.0824678896262895E-004\n",
      "             15 .-iteration\n",
      "   ... reached precision:   4.6083756193751412E-004\n",
      "             16 .-iteration\n",
      "   ... reached precision:   3.5276499380942629E-004\n",
      "             17 .-iteration\n",
      "   ... reached precision:   1.0824663349125809E-004\n",
      "             18 .-iteration\n",
      "   ... reached precision:   4.6083744870815160E-004\n",
      "             19 .-iteration\n",
      "   ... reached precision:   3.5276517225299486E-004\n",
      "             20 .-iteration\n",
      "   ... reached precision:   1.0824665467668409E-004\n",
      "             21 .-iteration\n",
      "   ... reached precision:   4.6083751577366327E-004\n",
      "             22 .-iteration\n",
      "   ... reached precision:   3.5276515037859993E-004\n",
      "             23 .-iteration\n",
      "   ... reached precision:   1.0824664948330209E-004\n",
      "             24 .-iteration\n",
      "   ... reached precision:   4.6083741681306553E-004\n",
      "             25 .-iteration\n",
      "   ... reached precision:   3.5276508243057051E-004\n",
      "             26 .-iteration\n",
      "   ... reached precision:   1.0824652555906474E-004\n",
      "             27 .-iteration\n",
      "   ... reached precision:   4.6083748973906963E-004\n",
      "             28 .-iteration\n",
      "   ... reached precision:   3.5276509742618366E-004\n",
      "             29 .-iteration\n",
      "   ... reached precision:   1.0824646908100298E-004\n",
      "             30 .-iteration\n",
      "   ... reached precision:   4.6083721307920084E-004\n",
      "             31 .-iteration\n",
      "   ... reached precision:   3.5276505977076803E-004\n",
      "             32 .-iteration\n",
      "   ... reached precision:   1.0824673774788488E-004\n",
      "             33 .-iteration\n",
      "   ... reached precision:   4.6083754541739714E-004\n",
      "             34 .-iteration\n",
      "   ... reached precision:   3.5276519874047427E-004\n",
      "             35 .-iteration\n",
      "   ... reached precision:   1.0824657166746045E-004\n",
      "             36 .-iteration\n",
      "   ... reached precision:   4.6083754497017231E-004\n",
      "             37 .-iteration\n",
      "   ... reached precision:   3.5276524171695678E-004\n",
      "             38 .-iteration\n",
      "   ... reached precision:   1.0824668158829425E-004\n",
      "             39 .-iteration\n",
      "   ... reached precision:   4.6083757475675317E-004\n",
      "             40 .-iteration\n",
      "   ... reached precision:   3.5276502836152662E-004\n",
      " Calculate loop corrected masses \n",
      " Calculating branching ratios and decay widths\n",
      " Calculating low energy constraints\n",
      " No consistent solution found for tadpoles: \n",
      " Negative absolute squared: ,Abs2MuP \n",
      " Result:   -73976.063229025283     \n",
      " No consistent solution found for tadpoles: \n",
      " Negative absolute squared: ,Abs2MuP \n",
      " Result:   -99362.413806186465     \n",
      " No consistent solution found for tadpoles: \n",
      " Negative absolute squared: ,Abs2MuP \n",
      " Result:   -99711.440856764326     \n",
      " No consistent solution found for tadpoles: \n",
      " Negative absolute squared: ,Abs2MuP \n",
      " Result:   -99711.440856764326     \n",
      " No consistent solution found for tadpoles: \n",
      " Negative absolute squared: ,Abs2MuP \n",
      " Result:   -99352.469602951140     \n",
      " Writing output files\n",
      " Finished!\n",
      "\n",
      "Successful point: \n",
      "H1 mass:  117.018053\n",
      "H2 mass:  211.826236\n"
     ]
    }
   ],
   "metadata": {}
  }
 ],
 "metadata": {
  "kernelspec": {
   "display_name": "Python 3 (ipykernel)",
   "language": "python",
   "name": "python3"
  },
  "language_info": {
   "codemirror_mode": {
    "name": "ipython",
    "version": 3
   },
   "file_extension": ".py",
   "mimetype": "text/x-python",
   "name": "python",
   "nbconvert_exporter": "python",
   "pygments_lexer": "ipython3",
   "version": "3.9.6"
  }
 },
 "nbformat": 4,
 "nbformat_minor": 5
}