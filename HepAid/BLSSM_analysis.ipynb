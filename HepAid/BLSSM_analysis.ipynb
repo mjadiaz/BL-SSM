{
 "cells": [
  {
   "cell_type": "code",
   "execution_count": 18,
   "source": [
    "import numpy as np\n",
    "\n",
    "import HepRead\n",
    "import HepTools\n",
    "\n",
    "import os\n",
    "import matplotlib.pyplot as plt\n",
    "import pandas as pd\n",
    "import mplcyberpunk"
   ],
   "outputs": [],
   "metadata": {}
  },
  {
   "cell_type": "code",
   "execution_count": 2,
   "source": [
    "model = 'BLSSM'\n",
    "work_dir = '/scratch/mjad1g20/HEP/WorkArea/BLSSM_Work'\n",
    "spheno_dir = '/scratch/mjad1g20/HEP/SPHENO/SPheno-3.3.8'\n",
    "reference_lhs = '/scratch/mjad1g20/HEP/SPHENO/SPheno-3.3.8/BLSSM/Input_Files/LesHouches.in.BLSSM'\n",
    "madgraph_dir = '/scratch/mjad1g20/HEP/MG5_aMC_v3_1_1'"
   ],
   "outputs": [],
   "metadata": {}
  },
  {
   "cell_type": "code",
   "execution_count": 3,
   "source": [
    "param_cards_dir = '/Users/madiaz/WorkArea/BLSSM_model_files/BLSSM_work/HEscan/SPhenoBLSSM_output'"
   ],
   "outputs": [],
   "metadata": {}
  },
  {
   "cell_type": "code",
   "execution_count": 4,
   "source": [
    "h1 = np.array([])\n",
    "h2 = np.array([])\n",
    "cards = np.array([])\n",
    "for card in os.listdir(param_cards_dir):\n",
    "    path = os.path.join(param_cards_dir,card)\n",
    "    slha = HepRead.Slha(path)\n",
    "    h1 = np.append(h1,slha.particle(25).mass)\n",
    "    h2 = np.append(h2,slha.particle(35).mass)\n",
    "    cards = np.append(cards,card)\n",
    "    \n",
    "    "
   ],
   "outputs": [],
   "metadata": {}
  },
  {
   "cell_type": "code",
   "execution_count": 29,
   "source": [
    "df = pd.DataFrame(dict(mh1 = h1, mh2 = h2, card_number=cards))\n",
    "df.head()"
   ],
   "outputs": [
    {
     "output_type": "execute_result",
     "data": {
      "text/html": [
       "<div>\n",
       "<style scoped>\n",
       "    .dataframe tbody tr th:only-of-type {\n",
       "        vertical-align: middle;\n",
       "    }\n",
       "\n",
       "    .dataframe tbody tr th {\n",
       "        vertical-align: top;\n",
       "    }\n",
       "\n",
       "    .dataframe thead th {\n",
       "        text-align: right;\n",
       "    }\n",
       "</style>\n",
       "<table border=\"1\" class=\"dataframe\">\n",
       "  <thead>\n",
       "    <tr style=\"text-align: right;\">\n",
       "      <th></th>\n",
       "      <th>mh1</th>\n",
       "      <th>mh2</th>\n",
       "      <th>card_number</th>\n",
       "    </tr>\n",
       "  </thead>\n",
       "  <tbody>\n",
       "    <tr>\n",
       "      <th>0</th>\n",
       "      <td>113.380734</td>\n",
       "      <td>140.912836</td>\n",
       "      <td>SPheno.spc.BLSSM_HEscan_548</td>\n",
       "    </tr>\n",
       "    <tr>\n",
       "      <th>1</th>\n",
       "      <td>111.325331</td>\n",
       "      <td>133.653999</td>\n",
       "      <td>SPheno.spc.BLSSM_HEscan_910</td>\n",
       "    </tr>\n",
       "    <tr>\n",
       "      <th>2</th>\n",
       "      <td>114.253656</td>\n",
       "      <td>140.524001</td>\n",
       "      <td>SPheno.spc.BLSSM_HEscan_113</td>\n",
       "    </tr>\n",
       "    <tr>\n",
       "      <th>3</th>\n",
       "      <td>109.937386</td>\n",
       "      <td>120.749248</td>\n",
       "      <td>SPheno.spc.BLSSM_HEscan_745</td>\n",
       "    </tr>\n",
       "    <tr>\n",
       "      <th>4</th>\n",
       "      <td>56.948237</td>\n",
       "      <td>115.606767</td>\n",
       "      <td>SPheno.spc.BLSSM_HEscan_577</td>\n",
       "    </tr>\n",
       "  </tbody>\n",
       "</table>\n",
       "</div>"
      ],
      "text/plain": [
       "          mh1         mh2                  card_number\n",
       "0  113.380734  140.912836  SPheno.spc.BLSSM_HEscan_548\n",
       "1  111.325331  133.653999  SPheno.spc.BLSSM_HEscan_910\n",
       "2  114.253656  140.524001  SPheno.spc.BLSSM_HEscan_113\n",
       "3  109.937386  120.749248  SPheno.spc.BLSSM_HEscan_745\n",
       "4   56.948237  115.606767  SPheno.spc.BLSSM_HEscan_577"
      ]
     },
     "metadata": {},
     "execution_count": 29
    }
   ],
   "metadata": {}
  },
  {
   "cell_type": "code",
   "execution_count": 26,
   "source": [
    "plt.style.use(\"cyberpunk\")\n",
    "\n",
    "plt.scatter(df.mh2, df.mh1,s=3)\n",
    "plt.ylabel(r'$m_{H1}$ GeV',fontsize=15)\n",
    "plt.xlabel(r'$m_{H2}$ GeV',fontsize=15)\n",
    "plt.title('Scanned points',fontsize=18)\n",
    "plt.show()"
   ],
   "outputs": [
    {
     "output_type": "display_data",
     "data": {
      "image/png": "[encoded data removed]",
      "text/plain": [
       "<Figure size 432x288 with 1 Axes>"
      ]
     },
     "metadata": {}
    }
   ],
   "metadata": {}
  },
  {
   "cell_type": "code",
   "execution_count": 36,
   "source": [
    "df_select = df[(df.mh2 > 124.) & (df.mh2 < 126)]\n",
    "df_select.head()"
   ],
   "outputs": [
    {
     "output_type": "execute_result",
     "data": {
      "text/html": [
       "<div>\n",
       "<style scoped>\n",
       "    .dataframe tbody tr th:only-of-type {\n",
       "        vertical-align: middle;\n",
       "    }\n",
       "\n",
       "    .dataframe tbody tr th {\n",
       "        vertical-align: top;\n",
       "    }\n",
       "\n",
       "    .dataframe thead th {\n",
       "        text-align: right;\n",
       "    }\n",
       "</style>\n",
       "<table border=\"1\" class=\"dataframe\">\n",
       "  <thead>\n",
       "    <tr style=\"text-align: right;\">\n",
       "      <th></th>\n",
       "      <th>mh1</th>\n",
       "      <th>mh2</th>\n",
       "      <th>card_number</th>\n",
       "    </tr>\n",
       "  </thead>\n",
       "  <tbody>\n",
       "    <tr>\n",
       "      <th>54</th>\n",
       "      <td>102.930553</td>\n",
       "      <td>125.982397</td>\n",
       "      <td>SPheno.spc.BLSSM_HEscan_980</td>\n",
       "    </tr>\n",
       "    <tr>\n",
       "      <th>77</th>\n",
       "      <td>101.838075</td>\n",
       "      <td>124.409141</td>\n",
       "      <td>SPheno.spc.BLSSM_HEscan_636</td>\n",
       "    </tr>\n",
       "    <tr>\n",
       "      <th>108</th>\n",
       "      <td>101.369773</td>\n",
       "      <td>125.921333</td>\n",
       "      <td>SPheno.spc.BLSSM_HEscan_253</td>\n",
       "    </tr>\n",
       "    <tr>\n",
       "      <th>164</th>\n",
       "      <td>109.452509</td>\n",
       "      <td>124.534898</td>\n",
       "      <td>SPheno.spc.BLSSM_HEscan_735</td>\n",
       "    </tr>\n",
       "    <tr>\n",
       "      <th>178</th>\n",
       "      <td>104.208124</td>\n",
       "      <td>124.236234</td>\n",
       "      <td>SPheno.spc.BLSSM_HEscan_761</td>\n",
       "    </tr>\n",
       "  </tbody>\n",
       "</table>\n",
       "</div>"
      ],
      "text/plain": [
       "            mh1         mh2                  card_number\n",
       "54   102.930553  125.982397  SPheno.spc.BLSSM_HEscan_980\n",
       "77   101.838075  124.409141  SPheno.spc.BLSSM_HEscan_636\n",
       "108  101.369773  125.921333  SPheno.spc.BLSSM_HEscan_253\n",
       "164  109.452509  124.534898  SPheno.spc.BLSSM_HEscan_735\n",
       "178  104.208124  124.236234  SPheno.spc.BLSSM_HEscan_761"
      ]
     },
     "metadata": {},
     "execution_count": 36
    }
   ],
   "metadata": {}
  },
  {
   "cell_type": "code",
   "execution_count": 37,
   "source": [
    "plt.style.use(\"cyberpunk\")\n",
    "\n",
    "plt.scatter(df_select.mh2, df_select.mh1,s=20)\n",
    "plt.ylabel(r'$m_{H1}$ GeV',fontsize=15)\n",
    "plt.xlabel(r'$m_{H2}$ GeV',fontsize=15)\n",
    "plt.title('Points to recreate the paper',fontsize=18)\n",
    "plt.show()"
   ],
   "outputs": [
    {
     "output_type": "display_data",
     "data": {
      "image/png": "[encoded data removed]",
      "text/plain": [
       "<Figure size 432x288 with 1 Axes>"
      ]
     },
     "metadata": {}
    }
   ],
   "metadata": {}
  },
  {
   "cell_type": "code",
   "execution_count": 49,
   "source": [
    "df_select[(df_select.mh1 < 100)]"
   ],
   "outputs": [
    {
     "output_type": "execute_result",
     "data": {
      "text/html": [
       "<div>\n",
       "<style scoped>\n",
       "    .dataframe tbody tr th:only-of-type {\n",
       "        vertical-align: middle;\n",
       "    }\n",
       "\n",
       "    .dataframe tbody tr th {\n",
       "        vertical-align: top;\n",
       "    }\n",
       "\n",
       "    .dataframe thead th {\n",
       "        text-align: right;\n",
       "    }\n",
       "</style>\n",
       "<table border=\"1\" class=\"dataframe\">\n",
       "  <thead>\n",
       "    <tr style=\"text-align: right;\">\n",
       "      <th></th>\n",
       "      <th>mh1</th>\n",
       "      <th>mh2</th>\n",
       "      <th>card_number</th>\n",
       "    </tr>\n",
       "  </thead>\n",
       "  <tbody>\n",
       "    <tr>\n",
       "      <th>277</th>\n",
       "      <td>98.110488</td>\n",
       "      <td>124.713216</td>\n",
       "      <td>SPheno.spc.BLSSM_HEscan_1</td>\n",
       "    </tr>\n",
       "    <tr>\n",
       "      <th>364</th>\n",
       "      <td>97.188136</td>\n",
       "      <td>124.255537</td>\n",
       "      <td>SPheno.spc.BLSSM_HEscan_818</td>\n",
       "    </tr>\n",
       "  </tbody>\n",
       "</table>\n",
       "</div>"
      ],
      "text/plain": [
       "           mh1         mh2                  card_number\n",
       "277  98.110488  124.713216    SPheno.spc.BLSSM_HEscan_1\n",
       "364  97.188136  124.255537  SPheno.spc.BLSSM_HEscan_818"
      ]
     },
     "metadata": {},
     "execution_count": 49
    }
   ],
   "metadata": {}
  },
  {
   "cell_type": "code",
   "execution_count": 79,
   "source": [
    "point = df_select[(df_select.mh1 < 100)].mh2.idxmax()\n",
    "selected_param_card = df.iloc[277].card_number\n",
    "print('id : ',point)\n",
    "print('Param card : {}'.format(selected_param_card))"
   ],
   "outputs": [
    {
     "output_type": "stream",
     "name": "stdout",
     "text": [
      "id :  277\n",
      "Param card : SPheno.spc.BLSSM_HEscan_1\n"
     ]
    }
   ],
   "metadata": {}
  }
 ],
 "metadata": {
  "orig_nbformat": 4,
  "language_info": {
   "name": "python",
   "version": "3.9.4",
   "mimetype": "text/x-python",
   "codemirror_mode": {
    "name": "ipython",
    "version": 3
   },
   "pygments_lexer": "ipython3",
   "nbconvert_exporter": "python",
   "file_extension": ".py"
  },
  "kernelspec": {
   "name": "python3",
   "display_name": "Python 3.9.4 64-bit ('heptools': conda)"
  },
  "interpreter": {
   "hash": "62e223c1476898eed7b2f6b1f1762961ca5226ee60a590d6a9f97876055d58be"
  }
 },
 "nbformat": 4,
 "nbformat_minor": 2
}